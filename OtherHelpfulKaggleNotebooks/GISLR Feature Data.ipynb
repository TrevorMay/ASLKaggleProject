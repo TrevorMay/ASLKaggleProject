{
 "cells": [
  {
   "cell_type": "code",
   "execution_count": 3,
   "id": "40241171",
   "metadata": {},
   "outputs": [],
   "source": [
    "import os\n",
    "\n",
    "import json\n",
    "from tqdm import tqdm\n",
    "import numpy as np\n",
    "import pandas as pd\n",
    "\n",
    "import torch\n",
    "import torch.nn as nn\n",
    "import multiprocessing as mp"
   ]
  },
  {
   "cell_type": "code",
   "execution_count": 5,
   "id": "65f85743",
   "metadata": {},
   "outputs": [],
   "source": [
    "cwd = os.getcwd()\n",
    "\n",
    "LANDMARK_FILES_DIR = \"C:\\repo\\math4920\\ASLKaggleProject\\kaggle\\asl-signs\\train_landmark_files\"\n",
    "TRAIN_FILE = \"C:/repo/math4920/ASLKaggleProject/kaggle/asl-signs/train.csv\"\n",
    "label_map = json.load(open(\"C:/repo/math4920/ASLKaggleProject/kaggle/asl-signs//sign_to_prediction_index_map.json\", \"r\"))"
   ]
  },
  {
   "cell_type": "code",
   "execution_count": 6,
   "id": "23b55aaf",
   "metadata": {},
   "outputs": [],
   "source": [
    "class FeatureGen(nn.Module):\n",
    "    def __init__(self):\n",
    "        super(FeatureGen, self).__init__()\n",
    "        pass\n",
    "    \n",
    "    def forward(self, x):\n",
    "        face_x = x[:,:468,:].contiguous().view(-1, 468*3)\n",
    "        lefth_x = x[:,468:489,:].contiguous().view(-1, 21*3)\n",
    "        pose_x = x[:,489:522,:].contiguous().view(-1, 33*3)\n",
    "        righth_x = x[:,522:,:].contiguous().view(-1, 21*3)\n",
    "        \n",
    "        lefth_x = lefth_x[~torch.any(torch.isnan(lefth_x), dim=1),:]\n",
    "        righth_x = righth_x[~torch.any(torch.isnan(righth_x), dim=1),:]\n",
    "        \n",
    "        x1m = torch.mean(face_x, 0)\n",
    "        x2m = torch.mean(lefth_x, 0)\n",
    "        x3m = torch.mean(pose_x, 0)\n",
    "        x4m = torch.mean(righth_x, 0)\n",
    "        \n",
    "        x1s = torch.std(face_x, 0)\n",
    "        x2s = torch.std(lefth_x, 0)\n",
    "        x3s = torch.std(pose_x, 0)\n",
    "        x4s = torch.std(righth_x, 0)\n",
    "        \n",
    "        xfeat = torch.cat([x1m,x2m,x3m,x4m, x1s,x2s,x3s,x4s], axis=0)\n",
    "        xfeat = torch.where(torch.isnan(xfeat), torch.tensor(0.0, dtype=torch.float32), xfeat)\n",
    "        \n",
    "        return xfeat\n",
    "    \n",
    "feature_converter = FeatureGen()"
   ]
  },
  {
   "cell_type": "code",
   "execution_count": 7,
   "id": "1a4f584f",
   "metadata": {},
   "outputs": [],
   "source": [
    "ROWS_PER_FRAME = 543\n",
    "def load_relevant_data_subset(pq_path):\n",
    "    data_columns = ['x', 'y', 'z']\n",
    "    data = pd.read_parquet(pq_path, columns=data_columns)\n",
    "    n_frames = int(len(data) / ROWS_PER_FRAME)\n",
    "    data = data.values.reshape(n_frames, ROWS_PER_FRAME, len(data_columns))\n",
    "    return data.astype(np.float32)"
   ]
  },
  {
   "cell_type": "code",
   "execution_count": null,
   "id": "cd1a9973",
   "metadata": {},
   "outputs": [
    {
     "name": "stderr",
     "output_type": "stream",
     "text": [
      "\r",
      "  0%|                                                                                        | 0/94477 [00:00<?, ?it/s]"
     ]
    }
   ],
   "source": [
    "def convert_row(row):\n",
    "    x = load_relevant_data_subset(os.path.join(\"/kaggle/input/asl-signs\", row[1].path))\n",
    "    x = feature_converter(torch.tensor(x)).cpu().numpy()\n",
    "    return x, row[1].label\n",
    "\n",
    "def convert_and_save_data():\n",
    "    df = pd.read_csv(TRAIN_FILE)\n",
    "    df['label'] = df['sign'].map(label_map)\n",
    "    npdata = np.zeros((df.shape[0], 3258))\n",
    "    nplabels = np.zeros(df.shape[0])\n",
    "    with mp.Pool() as pool:\n",
    "        results = pool.imap(convert_row, df.iterrows(), chunksize=250)\n",
    "        for i, (x,y) in tqdm(enumerate(results), total=df.shape[0]):\n",
    "            npdata[i,:] = x\n",
    "            nplabels[i] = y\n",
    "    \n",
    "    np.save(\"feature_data.npy\", npdata)\n",
    "    np.save(\"feature_labels.npy\", nplabels)\n",
    "        \n",
    "convert_and_save_data()"
   ]
  },
  {
   "cell_type": "markdown",
   "id": "e4aa324a",
   "metadata": {},
   "source": [
    "### Source:\n",
    "https://www.kaggle.com/code/mayukh18/gislr-feature-data\n",
    "I wasn't super familiar with TF-Records or PyTorch going into this competition so it was super helpful that Mayukh Bhattacharyya made this code available."
   ]
  }
 ],
 "metadata": {
  "kernelspec": {
   "display_name": "Python 3 (ipykernel)",
   "language": "python",
   "name": "python3"
  },
  "language_info": {
   "codemirror_mode": {
    "name": "ipython",
    "version": 3
   },
   "file_extension": ".py",
   "mimetype": "text/x-python",
   "name": "python",
   "nbconvert_exporter": "python",
   "pygments_lexer": "ipython3",
   "version": "3.9.0"
  }
 },
 "nbformat": 4,
 "nbformat_minor": 5
}
